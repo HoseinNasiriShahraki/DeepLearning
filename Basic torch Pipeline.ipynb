{
 "cells": [
  {
   "cell_type": "code",
   "execution_count": 1,
   "metadata": {},
   "outputs": [],
   "source": [
    "import numpy as np\n",
    "import torch\n",
    "import torch.nn as nn\n",
    "\n",
    "\n",
    "X = torch.tensor([[1],[2],[3],[4]] , dtype= torch.float32)\n",
    "Y = torch.tensor([[2],[4],[6],[8]] , dtype= torch.float32)\n",
    "\n",
    "x_test = torch.tensor([5] , dtype= torch.float32)\n",
    "\n",
    "n_samles , n_features = X.shape\n",
    "\n",
    "input_size = n_features\n",
    "output_size = n_features\n",
    "\n",
    "model = nn.Linear(in_features= input_size , out_features= output_size)\n",
    "\n",
    "learning_rate = 0.01\n",
    "n_iters = 1000\n",
    "\n",
    "#loss = MSE\n",
    "# def loss(y, y_pred):\n",
    "#     return (((y_pred-y)**2).mean())\n",
    "loss = nn.MSELoss()\n",
    "optimizer = torch.optim.SGD(model.parameters() , lr = learning_rate)\n",
    "\n",
    "#grad\n",
    "def gradeint(x,y, y_pred):\n",
    "    return np.dot(2*x , y_pred-y).mean()\n",
    "\n"
   ]
  },
  {
   "cell_type": "code",
   "execution_count": 2,
   "metadata": {},
   "outputs": [
    {
     "name": "stdout",
     "output_type": "stream",
     "text": [
      "epoch 1 : w = 1.036211 , loss = 5.301827\n",
      "epoch 101 : w = 1.743806 , loss = 0.095328\n",
      "epoch 201 : w = 1.810176 , loss = 0.052334\n",
      "epoch 301 : w = 1.859353 , loss = 0.028731\n",
      "epoch 401 : w = 1.895789 , loss = 0.015773\n",
      "epoch 501 : w = 1.922786 , loss = 0.008659\n",
      "epoch 601 : w = 1.942790 , loss = 0.004754\n",
      "epoch 701 : w = 1.957610 , loss = 0.002610\n",
      "epoch 801 : w = 1.968592 , loss = 0.001433\n",
      "epoch 901 : w = 1.976729 , loss = 0.000787\n"
     ]
    }
   ],
   "source": [
    "for epoch in range(n_iters):\n",
    "    y_pred = model(X)\n",
    "\n",
    "    l = loss(Y , y_pred)\n",
    "\n",
    "    l.backward() \n",
    "    \n",
    "    optimizer.step()\n",
    "\n",
    "    optimizer.zero_grad()\n",
    "    \n",
    "    if epoch % 100 == 0:\n",
    "        [w, b] = model.parameters()\n",
    "        print(f'epoch {epoch+1} : w = {w[0][0].item():3f} , loss = {l:8f}')\n",
    "        "
   ]
  },
  {
   "cell_type": "code",
   "execution_count": 139,
   "metadata": {},
   "outputs": [],
   "source": [
    "\n",
    "\n"
   ]
  },
  {
   "cell_type": "code",
   "execution_count": 140,
   "metadata": {},
   "outputs": [
    {
     "name": "stdout",
     "output_type": "stream",
     "text": [
      "epoch 1 : w = 1.095312 , loss = 3.781852\n",
      "epoch 101 : w = 1.711282 , loss = 0.121069\n",
      "epoch 201 : w = 1.786078 , loss = 0.066465\n",
      "epoch 301 : w = 1.841497 , loss = 0.036489\n",
      "epoch 401 : w = 1.882559 , loss = 0.020032\n",
      "epoch 501 : w = 1.912984 , loss = 0.010997\n",
      "epoch 601 : w = 1.935527 , loss = 0.006037\n",
      "epoch 701 : w = 1.952229 , loss = 0.003314\n",
      "epoch 801 : w = 1.964605 , loss = 0.001820\n",
      "epoch 901 : w = 1.973774 , loss = 0.000999\n"
     ]
    }
   ],
   "source": []
  },
  {
   "cell_type": "code",
   "execution_count": null,
   "metadata": {},
   "outputs": [],
   "source": []
  }
 ],
 "metadata": {
  "kernelspec": {
   "display_name": "base",
   "language": "python",
   "name": "python3"
  },
  "language_info": {
   "codemirror_mode": {
    "name": "ipython",
    "version": 3
   },
   "file_extension": ".py",
   "mimetype": "text/x-python",
   "name": "python",
   "nbconvert_exporter": "python",
   "pygments_lexer": "ipython3",
   "version": "3.9.13"
  },
  "orig_nbformat": 4
 },
 "nbformat": 4,
 "nbformat_minor": 2
}
